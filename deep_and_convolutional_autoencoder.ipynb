{
  "nbformat": 4,
  "nbformat_minor": 0,
  "metadata": {
    "kernelspec": {
      "display_name": "Python 3",
      "language": "python",
      "name": "python3"
    },
    "language_info": {
      "codemirror_mode": {
        "name": "ipython",
        "version": 3
      },
      "file_extension": ".py",
      "mimetype": "text/x-python",
      "name": "python",
      "nbconvert_exporter": "python",
      "pygments_lexer": "ipython3",
      "version": "3.7.3"
    },
    "colab": {
      "name": "deep and convolutional autoencoder",
      "provenance": [],
      "collapsed_sections": []
    }
  },
  "cells": [
    {
      "cell_type": "markdown",
      "metadata": {
        "id": "QceI2NStmByY"
      },
      "source": [
        "## Load Libraries and Dataset"
      ]
    },
    {
      "cell_type": "code",
      "metadata": {
        "id": "ni522JtpmByf"
      },
      "source": [
        "from keras.datasets import fashion_mnist\n",
        "import numpy as np\n",
        "import keras\n",
        "from keras import layers\n",
        "import matplotlib.pyplot as plt"
      ],
      "execution_count": null,
      "outputs": []
    },
    {
      "cell_type": "code",
      "metadata": {
        "id": "MQO1i02LmByh",
        "colab": {
          "base_uri": "https://localhost:8080/"
        },
        "outputId": "ab839bde-afe5-46b2-cab1-969f308fbc32"
      },
      "source": [
        "(x_train, _), (x_test, _) = fashion_mnist.load_data()\n",
        "x_train = x_train.astype('float32') / 255.\n",
        "x_test = x_test.astype('float32') / 255.\n",
        "x_train = x_train.reshape((len(x_train), np.prod(x_train.shape[1:])))\n",
        "x_test = x_test.reshape((len(x_test), np.prod(x_test.shape[1:])))\n",
        "print(x_train.shape)\n",
        "print(x_test.shape)"
      ],
      "execution_count": null,
      "outputs": [
        {
          "output_type": "stream",
          "name": "stdout",
          "text": [
            "Downloading data from https://storage.googleapis.com/tensorflow/tf-keras-datasets/train-labels-idx1-ubyte.gz\n",
            "32768/29515 [=================================] - 0s 0us/step\n",
            "40960/29515 [=========================================] - 0s 0us/step\n",
            "Downloading data from https://storage.googleapis.com/tensorflow/tf-keras-datasets/train-images-idx3-ubyte.gz\n",
            "26427392/26421880 [==============================] - 0s 0us/step\n",
            "26435584/26421880 [==============================] - 0s 0us/step\n",
            "Downloading data from https://storage.googleapis.com/tensorflow/tf-keras-datasets/t10k-labels-idx1-ubyte.gz\n",
            "16384/5148 [===============================================================================================] - 0s 0us/step\n",
            "Downloading data from https://storage.googleapis.com/tensorflow/tf-keras-datasets/t10k-images-idx3-ubyte.gz\n",
            "4423680/4422102 [==============================] - 0s 0us/step\n",
            "4431872/4422102 [==============================] - 0s 0us/step\n",
            "(60000, 784)\n",
            "(10000, 784)\n"
          ]
        }
      ]
    },
    {
      "cell_type": "markdown",
      "metadata": {
        "id": "kq5oc04Bml5R"
      },
      "source": [
        "<h2>Deep Autoencoder</h2>"
      ]
    },
    {
      "cell_type": "markdown",
      "metadata": {
        "id": "rlryouDIm44D"
      },
      "source": [
        "3 Encoder Layers --- 3 Decoder Layers"
      ]
    },
    {
      "cell_type": "code",
      "metadata": {
        "colab": {
          "base_uri": "https://localhost:8080/"
        },
        "id": "bCNljUbJmnX5",
        "outputId": "efdd2f78-7dc2-45b4-88c3-02a969a7b01a"
      },
      "source": [
        "encoding_dim = 32  # Size of our encoded representations \n",
        "\n",
        "# encoder\n",
        "input_img = keras.Input(shape=(x_train.shape[1],))\n",
        "encoded = layers.Dense(128, activation='relu')(input_img)\n",
        "encoded = layers.Dense(64, activation='relu')(encoded)\n",
        "encoded = layers.Dense(32, activation='relu')(encoded) # layer for encoding or code\n",
        "\n",
        "# decoder\n",
        "decoded = layers.Dense(64, activation='relu')(encoded)\n",
        "decoded = layers.Dense(128, activation='relu')(decoded)\n",
        "decoded = layers.Dense(x_train.shape[1], activation='sigmoid')(decoded) \n",
        "\n",
        "ae1 = keras.Model(input_img, decoded)\n",
        "ae1.compile(optimizer='adam', loss='binary_crossentropy')\n",
        "ae1.summary()"
      ],
      "execution_count": null,
      "outputs": [
        {
          "output_type": "stream",
          "name": "stdout",
          "text": [
            "Model: \"model_2\"\n",
            "_________________________________________________________________\n",
            "Layer (type)                 Output Shape              Param #   \n",
            "=================================================================\n",
            "input_3 (InputLayer)         [(None, 784)]             0         \n",
            "_________________________________________________________________\n",
            "dense_2 (Dense)              (None, 128)               100480    \n",
            "_________________________________________________________________\n",
            "dense_3 (Dense)              (None, 64)                8256      \n",
            "_________________________________________________________________\n",
            "dense_4 (Dense)              (None, 32)                2080      \n",
            "_________________________________________________________________\n",
            "dense_5 (Dense)              (None, 64)                2112      \n",
            "_________________________________________________________________\n",
            "dense_6 (Dense)              (None, 128)               8320      \n",
            "_________________________________________________________________\n",
            "dense_7 (Dense)              (None, 784)               101136    \n",
            "=================================================================\n",
            "Total params: 222,384\n",
            "Trainable params: 222,384\n",
            "Non-trainable params: 0\n",
            "_________________________________________________________________\n"
          ]
        }
      ]
    },
    {
      "cell_type": "code",
      "metadata": {
        "colab": {
          "base_uri": "https://localhost:8080/"
        },
        "id": "dxqZZh8cm6wT",
        "outputId": "8038d751-8069-46d6-e11a-fc4fff792379"
      },
      "source": [
        "# train the model\n",
        "ae1.fit(x_train, x_train, epochs=50, batch_size=256, shuffle=True,  validation_data=(x_test, x_test))\n"
      ],
      "execution_count": null,
      "outputs": [
        {
          "output_type": "stream",
          "name": "stdout",
          "text": [
            "Epoch 1/50\n",
            "235/235 [==============================] - 4s 17ms/step - loss: 0.3793 - val_loss: 0.3168\n",
            "Epoch 2/50\n",
            "235/235 [==============================] - 4s 16ms/step - loss: 0.3078 - val_loss: 0.3048\n",
            "Epoch 3/50\n",
            "235/235 [==============================] - 4s 16ms/step - loss: 0.3001 - val_loss: 0.3005\n",
            "Epoch 4/50\n",
            "235/235 [==============================] - 4s 16ms/step - loss: 0.2958 - val_loss: 0.2965\n",
            "Epoch 5/50\n",
            "235/235 [==============================] - 4s 16ms/step - loss: 0.2930 - val_loss: 0.2938\n",
            "Epoch 6/50\n",
            "235/235 [==============================] - 4s 16ms/step - loss: 0.2907 - val_loss: 0.2922\n",
            "Epoch 7/50\n",
            "235/235 [==============================] - 4s 16ms/step - loss: 0.2889 - val_loss: 0.2920\n",
            "Epoch 8/50\n",
            "235/235 [==============================] - 4s 16ms/step - loss: 0.2875 - val_loss: 0.2902\n",
            "Epoch 9/50\n",
            "235/235 [==============================] - 4s 16ms/step - loss: 0.2862 - val_loss: 0.2879\n",
            "Epoch 10/50\n",
            "235/235 [==============================] - 4s 16ms/step - loss: 0.2852 - val_loss: 0.2868\n",
            "Epoch 11/50\n",
            "235/235 [==============================] - 4s 16ms/step - loss: 0.2842 - val_loss: 0.2860\n",
            "Epoch 12/50\n",
            "235/235 [==============================] - 4s 16ms/step - loss: 0.2834 - val_loss: 0.2859\n",
            "Epoch 13/50\n",
            "235/235 [==============================] - 4s 16ms/step - loss: 0.2827 - val_loss: 0.2846\n",
            "Epoch 14/50\n",
            "235/235 [==============================] - 4s 16ms/step - loss: 0.2819 - val_loss: 0.2838\n",
            "Epoch 15/50\n",
            "235/235 [==============================] - 4s 16ms/step - loss: 0.2812 - val_loss: 0.2833\n",
            "Epoch 16/50\n",
            "235/235 [==============================] - 4s 16ms/step - loss: 0.2807 - val_loss: 0.2827\n",
            "Epoch 17/50\n",
            "235/235 [==============================] - 4s 16ms/step - loss: 0.2801 - val_loss: 0.2821\n",
            "Epoch 18/50\n",
            "235/235 [==============================] - 4s 16ms/step - loss: 0.2796 - val_loss: 0.2825\n",
            "Epoch 19/50\n",
            "235/235 [==============================] - 4s 16ms/step - loss: 0.2791 - val_loss: 0.2813\n",
            "Epoch 20/50\n",
            "235/235 [==============================] - 4s 16ms/step - loss: 0.2788 - val_loss: 0.2807\n",
            "Epoch 21/50\n",
            "235/235 [==============================] - 4s 16ms/step - loss: 0.2783 - val_loss: 0.2803\n",
            "Epoch 22/50\n",
            "235/235 [==============================] - 4s 16ms/step - loss: 0.2780 - val_loss: 0.2806\n",
            "Epoch 23/50\n",
            "235/235 [==============================] - 4s 16ms/step - loss: 0.2777 - val_loss: 0.2800\n",
            "Epoch 24/50\n",
            "235/235 [==============================] - 4s 16ms/step - loss: 0.2772 - val_loss: 0.2794\n",
            "Epoch 25/50\n",
            "235/235 [==============================] - 4s 16ms/step - loss: 0.2770 - val_loss: 0.2793\n",
            "Epoch 26/50\n",
            "235/235 [==============================] - 4s 17ms/step - loss: 0.2767 - val_loss: 0.2791\n",
            "Epoch 27/50\n",
            "235/235 [==============================] - 4s 17ms/step - loss: 0.2765 - val_loss: 0.2789\n",
            "Epoch 28/50\n",
            "235/235 [==============================] - 4s 16ms/step - loss: 0.2762 - val_loss: 0.2786\n",
            "Epoch 29/50\n",
            "235/235 [==============================] - 4s 16ms/step - loss: 0.2760 - val_loss: 0.2783\n",
            "Epoch 30/50\n",
            "235/235 [==============================] - 4s 16ms/step - loss: 0.2757 - val_loss: 0.2779\n",
            "Epoch 31/50\n",
            "235/235 [==============================] - 4s 16ms/step - loss: 0.2755 - val_loss: 0.2779\n",
            "Epoch 32/50\n",
            "235/235 [==============================] - 4s 16ms/step - loss: 0.2753 - val_loss: 0.2778\n",
            "Epoch 33/50\n",
            "235/235 [==============================] - 4s 16ms/step - loss: 0.2751 - val_loss: 0.2774\n",
            "Epoch 34/50\n",
            "235/235 [==============================] - 4s 16ms/step - loss: 0.2748 - val_loss: 0.2771\n",
            "Epoch 35/50\n",
            "235/235 [==============================] - 4s 16ms/step - loss: 0.2747 - val_loss: 0.2771\n",
            "Epoch 36/50\n",
            "235/235 [==============================] - 4s 16ms/step - loss: 0.2744 - val_loss: 0.2770\n",
            "Epoch 37/50\n",
            "235/235 [==============================] - 4s 16ms/step - loss: 0.2743 - val_loss: 0.2766\n",
            "Epoch 38/50\n",
            "235/235 [==============================] - 4s 16ms/step - loss: 0.2741 - val_loss: 0.2766\n",
            "Epoch 39/50\n",
            "235/235 [==============================] - 4s 16ms/step - loss: 0.2739 - val_loss: 0.2763\n",
            "Epoch 40/50\n",
            "235/235 [==============================] - 4s 16ms/step - loss: 0.2738 - val_loss: 0.2765\n",
            "Epoch 41/50\n",
            "235/235 [==============================] - 4s 16ms/step - loss: 0.2736 - val_loss: 0.2762\n",
            "Epoch 42/50\n",
            "235/235 [==============================] - 4s 16ms/step - loss: 0.2735 - val_loss: 0.2758\n",
            "Epoch 43/50\n",
            "235/235 [==============================] - 4s 17ms/step - loss: 0.2732 - val_loss: 0.2759\n",
            "Epoch 44/50\n",
            "235/235 [==============================] - 4s 16ms/step - loss: 0.2731 - val_loss: 0.2754\n",
            "Epoch 45/50\n",
            "235/235 [==============================] - 4s 17ms/step - loss: 0.2730 - val_loss: 0.2759\n",
            "Epoch 46/50\n",
            "235/235 [==============================] - 4s 17ms/step - loss: 0.2729 - val_loss: 0.2756\n",
            "Epoch 47/50\n",
            "235/235 [==============================] - 4s 17ms/step - loss: 0.2727 - val_loss: 0.2761\n",
            "Epoch 48/50\n",
            "235/235 [==============================] - 4s 16ms/step - loss: 0.2726 - val_loss: 0.2752\n",
            "Epoch 49/50\n",
            "235/235 [==============================] - 4s 16ms/step - loss: 0.2725 - val_loss: 0.2750\n",
            "Epoch 50/50\n",
            "235/235 [==============================] - 4s 16ms/step - loss: 0.2724 - val_loss: 0.2751\n"
          ]
        },
        {
          "output_type": "execute_result",
          "data": {
            "text/plain": [
              "<keras.callbacks.History at 0x7fe42f3917d0>"
            ]
          },
          "metadata": {},
          "execution_count": 8
        }
      ]
    },
    {
      "cell_type": "code",
      "metadata": {
        "colab": {
          "base_uri": "https://localhost:8080/",
          "height": 283
        },
        "id": "a-JyfCoIm8rE",
        "outputId": "b22ad2d5-fb03-4b3b-e52a-6912c3dd17ab"
      },
      "source": [
        "decoded_imgs = ae1.predict(x_test)\n",
        "\n",
        "print('First row is orignal images')\n",
        "n = 10  # How many digits we will display\n",
        "plt.figure(figsize=(20, 4))\n",
        "for i in range(n):\n",
        "    # Display original\n",
        "    ax = plt.subplot(2, n, i + 1)\n",
        "    plt.imshow(x_test[i].reshape(28, 28))\n",
        "    plt.gray()\n",
        "    ax.get_xaxis().set_visible(False)\n",
        "    ax.get_yaxis().set_visible(False)\n",
        "\n",
        "    # Display reconstruction\n",
        "    ax = plt.subplot(2, n, i + 1 + n)\n",
        "    plt.imshow(decoded_imgs[i].reshape(28, 28))\n",
        "    plt.gray()\n",
        "    ax.get_xaxis().set_visible(False)\n",
        "    ax.get_yaxis().set_visible(False)\n",
        "plt.show()\n",
        "print('Second row is reconstrcuted images')"
      ],
      "execution_count": null,
      "outputs": [
        {
          "output_type": "stream",
          "name": "stdout",
          "text": [
            "First row is orignal images\n"
          ]
        },
        {
          "output_type": "display_data",
          "data": {
            "image/png": "[encoded data removed]",
            "text/plain": [
              "<Figure size 1440x288 with 20 Axes>"
            ]
          },
          "metadata": {
            "needs_background": "light"
          }
        },
        {
          "output_type": "stream",
          "name": "stdout",
          "text": [
            "Second row is reconstrcuted images\n"
          ]
        }
      ]
    },
    {
      "cell_type": "markdown",
      "metadata": {
        "id": "n-YzIHLmnIZe"
      },
      "source": [
        "## Design and Configure Convolutional Autoencoder\n",
        "\n",
        "3 convolutional Encoder Layer --- 3 convolutional Decoder Layer "
      ]
    },
    {
      "cell_type": "code",
      "metadata": {
        "colab": {
          "base_uri": "https://localhost:8080/"
        },
        "id": "s6dgOQ8Loyuo",
        "outputId": "71a234c3-a18d-4949-9072-29030df6a19a"
      },
      "source": [
        "(x_train, _), (x_test, _) = fashion_mnist.load_data()\n",
        "x_train = x_train.astype('float32') / 255.\n",
        "x_test = x_test.astype('float32') / 255.\n",
        "x_train = np.reshape(x_train, (len(x_train), 28, 28, 1))\n",
        "x_test = np.reshape(x_test, (len(x_test), 28, 28, 1))\n",
        "\n",
        "print(x_train.shape)        # (60000,28,28,1)\n",
        "print(x_test.shape)         # (10000,28,28,1)\n"
      ],
      "execution_count": null,
      "outputs": [
        {
          "output_type": "stream",
          "name": "stdout",
          "text": [
            "(60000, 28, 28, 1)\n",
            "(10000, 28, 28, 1)\n"
          ]
        }
      ]
    },
    {
      "cell_type": "code",
      "metadata": {
        "colab": {
          "base_uri": "https://localhost:8080/"
        },
        "id": "ipp0iH_bnCP-",
        "outputId": "a011b951-ff4a-4bf5-ecad-18c1d96bba73"
      },
      "source": [
        "input_img = keras.Input(shape=(28, 28, 1))\n",
        "\n",
        "x = layers.Conv2D(16, (3, 3), activation='relu', padding='same')(input_img)\n",
        "x = layers.MaxPooling2D((2, 2), padding='same')(x)\n",
        "x = layers.Conv2D(8, (3, 3), activation='relu', padding='same')(x)\n",
        "x = layers.MaxPooling2D((2, 2), padding='same')(x)\n",
        "x = layers.Conv2D(8, (3, 3), activation='relu', padding='same')(x)\n",
        "encoded = layers.MaxPooling2D((2, 2), padding='same')(x)\n",
        "\n",
        "# at this point the representation is (4, 4, 8) i.e. 128-dimensional\n",
        "\n",
        "x = layers.Conv2D(8, (3, 3), activation='relu', padding='same')(encoded)\n",
        "x = layers.UpSampling2D((2, 2))(x)\n",
        "x = layers.Conv2D(8, (3, 3), activation='relu', padding='same')(x)\n",
        "x = layers.UpSampling2D((2, 2))(x)\n",
        "x = layers.Conv2D(16, (3, 3), activation='relu')(x)\n",
        "x = layers.UpSampling2D((2, 2))(x)\n",
        "decoded = layers.Conv2D(1, (3, 3), activation='sigmoid', padding='same')(x)\n",
        "\n",
        "ae2 = keras.Model(input_img, decoded) \n",
        "\n",
        "ae2.compile(optimizer='adam', loss='binary_crossentropy')\n",
        "ae2.summary()"
      ],
      "execution_count": null,
      "outputs": [
        {
          "output_type": "stream",
          "name": "stdout",
          "text": [
            "Model: \"model_5\"\n",
            "_________________________________________________________________\n",
            "Layer (type)                 Output Shape              Param #   \n",
            "=================================================================\n",
            "input_6 (InputLayer)         [(None, 28, 28, 1)]       0         \n",
            "_________________________________________________________________\n",
            "conv2d_14 (Conv2D)           (None, 28, 28, 16)        160       \n",
            "_________________________________________________________________\n",
            "max_pooling2d_6 (MaxPooling2 (None, 14, 14, 16)        0         \n",
            "_________________________________________________________________\n",
            "conv2d_15 (Conv2D)           (None, 14, 14, 8)         1160      \n",
            "_________________________________________________________________\n",
            "max_pooling2d_7 (MaxPooling2 (None, 7, 7, 8)           0         \n",
            "_________________________________________________________________\n",
            "conv2d_16 (Conv2D)           (None, 7, 7, 8)           584       \n",
            "_________________________________________________________________\n",
            "max_pooling2d_8 (MaxPooling2 (None, 4, 4, 8)           0         \n",
            "_________________________________________________________________\n",
            "conv2d_17 (Conv2D)           (None, 4, 4, 8)           584       \n",
            "_________________________________________________________________\n",
            "up_sampling2d_6 (UpSampling2 (None, 8, 8, 8)           0         \n",
            "_________________________________________________________________\n",
            "conv2d_18 (Conv2D)           (None, 8, 8, 8)           584       \n",
            "_________________________________________________________________\n",
            "up_sampling2d_7 (UpSampling2 (None, 16, 16, 8)         0         \n",
            "_________________________________________________________________\n",
            "conv2d_19 (Conv2D)           (None, 14, 14, 16)        1168      \n",
            "_________________________________________________________________\n",
            "up_sampling2d_8 (UpSampling2 (None, 28, 28, 16)        0         \n",
            "_________________________________________________________________\n",
            "conv2d_20 (Conv2D)           (None, 28, 28, 1)         145       \n",
            "=================================================================\n",
            "Total params: 4,385\n",
            "Trainable params: 4,385\n",
            "Non-trainable params: 0\n",
            "_________________________________________________________________\n"
          ]
        }
      ]
    },
    {
      "cell_type": "code",
      "metadata": {
        "colab": {
          "base_uri": "https://localhost:8080/"
        },
        "id": "m2Ex1CwhnX7T",
        "outputId": "4f18ff47-3a0f-4fa9-f0b9-a01b6291b160"
      },
      "source": [
        "# train the model\n",
        "history = ae2.fit(x_train, x_train, epochs=50, batch_size=256, shuffle=True, validation_data=(x_test, x_test))\n"
      ],
      "execution_count": null,
      "outputs": [
        {
          "output_type": "stream",
          "name": "stdout",
          "text": [
            "Epoch 1/50\n",
            "235/235 [==============================] - 73s 306ms/step - loss: 0.3821 - val_loss: 0.3207\n",
            "Epoch 2/50\n",
            "235/235 [==============================] - 72s 305ms/step - loss: 0.3114 - val_loss: 0.3085\n",
            "Epoch 3/50\n",
            "235/235 [==============================] - 72s 305ms/step - loss: 0.3040 - val_loss: 0.3036\n",
            "Epoch 4/50\n",
            "235/235 [==============================] - 72s 305ms/step - loss: 0.3004 - val_loss: 0.3009\n",
            "Epoch 5/50\n",
            "235/235 [==============================] - 72s 305ms/step - loss: 0.2980 - val_loss: 0.2989\n",
            "Epoch 6/50\n",
            "235/235 [==============================] - 72s 305ms/step - loss: 0.2961 - val_loss: 0.2974\n",
            "Epoch 7/50\n",
            "235/235 [==============================] - 72s 305ms/step - loss: 0.2946 - val_loss: 0.2959\n",
            "Epoch 8/50\n",
            "235/235 [==============================] - 71s 304ms/step - loss: 0.2932 - val_loss: 0.2951\n",
            "Epoch 9/50\n",
            "235/235 [==============================] - 72s 305ms/step - loss: 0.2921 - val_loss: 0.2938\n",
            "Epoch 10/50\n",
            "235/235 [==============================] - 72s 305ms/step - loss: 0.2910 - val_loss: 0.2924\n",
            "Epoch 11/50\n",
            "235/235 [==============================] - 72s 305ms/step - loss: 0.2900 - val_loss: 0.2916\n",
            "Epoch 12/50\n",
            "235/235 [==============================] - 72s 305ms/step - loss: 0.2892 - val_loss: 0.2911\n",
            "Epoch 13/50\n",
            "235/235 [==============================] - 71s 304ms/step - loss: 0.2887 - val_loss: 0.2904\n",
            "Epoch 14/50\n",
            "235/235 [==============================] - 72s 305ms/step - loss: 0.2880 - val_loss: 0.2900\n",
            "Epoch 15/50\n",
            "235/235 [==============================] - 72s 305ms/step - loss: 0.2875 - val_loss: 0.2893\n",
            "Epoch 16/50\n",
            "235/235 [==============================] - 71s 304ms/step - loss: 0.2872 - val_loss: 0.2891\n",
            "Epoch 17/50\n",
            "235/235 [==============================] - 71s 304ms/step - loss: 0.2867 - val_loss: 0.2886\n",
            "Epoch 18/50\n",
            "235/235 [==============================] - 72s 305ms/step - loss: 0.2863 - val_loss: 0.2882\n",
            "Epoch 19/50\n",
            "235/235 [==============================] - 72s 305ms/step - loss: 0.2860 - val_loss: 0.2879\n",
            "Epoch 20/50\n",
            "235/235 [==============================] - 72s 305ms/step - loss: 0.2857 - val_loss: 0.2875\n",
            "Epoch 21/50\n",
            "235/235 [==============================] - 71s 304ms/step - loss: 0.2854 - val_loss: 0.2873\n",
            "Epoch 22/50\n",
            "235/235 [==============================] - 72s 305ms/step - loss: 0.2852 - val_loss: 0.2872\n",
            "Epoch 23/50\n",
            "235/235 [==============================] - 71s 304ms/step - loss: 0.2848 - val_loss: 0.2867\n",
            "Epoch 24/50\n",
            "235/235 [==============================] - 72s 305ms/step - loss: 0.2846 - val_loss: 0.2866\n",
            "Epoch 25/50\n",
            "235/235 [==============================] - 71s 304ms/step - loss: 0.2844 - val_loss: 0.2864\n",
            "Epoch 26/50\n",
            "235/235 [==============================] - 71s 304ms/step - loss: 0.2842 - val_loss: 0.2863\n",
            "Epoch 27/50\n",
            "235/235 [==============================] - 71s 304ms/step - loss: 0.2840 - val_loss: 0.2860\n",
            "Epoch 28/50\n",
            "235/235 [==============================] - 72s 305ms/step - loss: 0.2838 - val_loss: 0.2857\n",
            "Epoch 29/50\n",
            "235/235 [==============================] - 72s 305ms/step - loss: 0.2835 - val_loss: 0.2856\n",
            "Epoch 30/50\n",
            "235/235 [==============================] - 71s 304ms/step - loss: 0.2834 - val_loss: 0.2854\n",
            "Epoch 31/50\n",
            "235/235 [==============================] - 71s 304ms/step - loss: 0.2832 - val_loss: 0.2852\n",
            "Epoch 32/50\n",
            "235/235 [==============================] - 71s 304ms/step - loss: 0.2831 - val_loss: 0.2851\n",
            "Epoch 33/50\n",
            "235/235 [==============================] - 72s 305ms/step - loss: 0.2830 - val_loss: 0.2850\n",
            "Epoch 34/50\n",
            "235/235 [==============================] - 71s 304ms/step - loss: 0.2828 - val_loss: 0.2847\n",
            "Epoch 35/50\n",
            "235/235 [==============================] - 71s 303ms/step - loss: 0.2826 - val_loss: 0.2847\n",
            "Epoch 36/50\n",
            "235/235 [==============================] - 71s 304ms/step - loss: 0.2824 - val_loss: 0.2845\n",
            "Epoch 37/50\n",
            "235/235 [==============================] - 72s 304ms/step - loss: 0.2824 - val_loss: 0.2843\n",
            "Epoch 38/50\n",
            "235/235 [==============================] - 71s 304ms/step - loss: 0.2822 - val_loss: 0.2842\n",
            "Epoch 39/50\n",
            "235/235 [==============================] - 71s 304ms/step - loss: 0.2821 - val_loss: 0.2841\n",
            "Epoch 40/50\n",
            "235/235 [==============================] - 71s 304ms/step - loss: 0.2820 - val_loss: 0.2840\n",
            "Epoch 41/50\n",
            "235/235 [==============================] - 71s 304ms/step - loss: 0.2819 - val_loss: 0.2838\n",
            "Epoch 42/50\n",
            "235/235 [==============================] - 71s 304ms/step - loss: 0.2818 - val_loss: 0.2838\n",
            "Epoch 43/50\n",
            "235/235 [==============================] - 71s 304ms/step - loss: 0.2816 - val_loss: 0.2840\n",
            "Epoch 44/50\n",
            "235/235 [==============================] - 71s 304ms/step - loss: 0.2816 - val_loss: 0.2837\n",
            "Epoch 45/50\n",
            "235/235 [==============================] - 71s 304ms/step - loss: 0.2814 - val_loss: 0.2839\n",
            "Epoch 46/50\n",
            "235/235 [==============================] - 71s 304ms/step - loss: 0.2814 - val_loss: 0.2834\n",
            "Epoch 47/50\n",
            "235/235 [==============================] - 72s 305ms/step - loss: 0.2813 - val_loss: 0.2834\n",
            "Epoch 48/50\n",
            "235/235 [==============================] - 71s 303ms/step - loss: 0.2811 - val_loss: 0.2832\n",
            "Epoch 49/50\n",
            "235/235 [==============================] - 72s 304ms/step - loss: 0.2811 - val_loss: 0.2834\n",
            "Epoch 50/50\n",
            "235/235 [==============================] - 71s 304ms/step - loss: 0.2809 - val_loss: 0.2831\n"
          ]
        }
      ]
    },
    {
      "cell_type": "code",
      "metadata": {
        "colab": {
          "base_uri": "https://localhost:8080/",
          "height": 283
        },
        "id": "2zIj-01qnfRN",
        "outputId": "d7594390-631c-472e-ce58-09c42771ac52"
      },
      "source": [
        "decoded_imgs = ae2.predict(x_test)\n",
        "\n",
        "print('First row is orignal images')\n",
        "n = 10  # How many digits we will display\n",
        "plt.figure(figsize=(20, 4))\n",
        "for i in range(n):\n",
        "    # Display original\n",
        "    ax = plt.subplot(2, n, i + 1)\n",
        "    plt.imshow(x_test[i].reshape(28, 28))\n",
        "    plt.gray()\n",
        "    ax.get_xaxis().set_visible(False)\n",
        "    ax.get_yaxis().set_visible(False)\n",
        "\n",
        "    # Display reconstruction\n",
        "    ax = plt.subplot(2, n, i + 1 + n)\n",
        "    plt.imshow(decoded_imgs[i].reshape(28, 28))\n",
        "    plt.gray()\n",
        "    ax.get_xaxis().set_visible(False)\n",
        "    ax.get_yaxis().set_visible(False)\n",
        "plt.show()\n",
        "print('Second row is reconstrcuted images')"
      ],
      "execution_count": null,
      "outputs": [
        {
          "output_type": "stream",
          "name": "stdout",
          "text": [
            "First row is orignal images\n"
          ]
        },
        {
          "output_type": "display_data",
          "data": {
            "image/png": "[encoded data removed]",
            "text/plain": [
              "<Figure size 1440x288 with 20 Axes>"
            ]
          },
          "metadata": {
            "needs_background": "light"
          }
        },
        {
          "output_type": "stream",
          "name": "stdout",
          "text": [
            "Second row is reconstrcuted images\n"
          ]
        }
      ]
    },
    {
      "cell_type": "code",
      "metadata": {
        "colab": {
          "base_uri": "https://localhost:8080/",
          "height": 487
        },
        "id": "cwVgmWaknoXi",
        "outputId": "31670d51-7d79-45c4-dbdb-041d5848e4d5"
      },
      "source": [
        "encoder = keras.Model(input_img, encoded)\n",
        "encoded_imgs = encoder.predict(x_test)\n",
        "\n",
        "print('Encoded representations')\n",
        "n = 10\n",
        "plt.figure(figsize=(20, 8))\n",
        "for i in range(1, n + 1):\n",
        "    ax = plt.subplot(1, n, i)\n",
        "    plt.imshow(encoded_imgs[i].reshape((4, 4 * 8)).T)\n",
        "    plt.gray()\n",
        "    ax.get_xaxis().set_visible(False)\n",
        "    ax.get_yaxis().set_visible(False)\n",
        "plt.show()\n"
      ],
      "execution_count": null,
      "outputs": [
        {
          "output_type": "stream",
          "name": "stdout",
          "text": [
            "Encoded representations\n"
          ]
        },
        {
          "output_type": "display_data",
          "data": {
            "image/png": "[encoded data removed]",
            "text/plain": [
              "<Figure size 1440x576 with 10 Axes>"
            ]
          },
          "metadata": {
            "needs_background": "light"
          }
        }
      ]
    }
  ]
}