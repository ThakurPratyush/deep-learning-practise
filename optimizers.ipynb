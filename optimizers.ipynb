{
  "nbformat": 4,
  "nbformat_minor": 0,
  "metadata": {
    "colab": {
      "name": "optimizers.ipynb",
      "provenance": []
    },
    "kernelspec": {
      "name": "python3",
      "display_name": "Python 3"
    },
    "language_info": {
      "name": "python"
    }
  },
  "cells": [
    {
      "cell_type": "code",
      "metadata": {
        "id": "FSq4WpRQVUd8"
      },
      "source": [
        "import tensorflow as tf\n",
        "from tensorflow import keras"
      ],
      "execution_count": null,
      "outputs": []
    },
    {
      "cell_type": "code",
      "metadata": {
        "id": "z77Sbu5xXRvY"
      },
      "source": [
        "data = tf.keras.datasets.mnist"
      ],
      "execution_count": null,
      "outputs": []
    },
    {
      "cell_type": "code",
      "metadata": {
        "colab": {
          "base_uri": "https://localhost:8080/"
        },
        "id": "wyTqqC82XYV-",
        "outputId": "f497f073-10a4-4511-d095-54f13dee62c1"
      },
      "source": [
        "(x_train , y_train),(x_test, y_test)  = data.load_data()"
      ],
      "execution_count": null,
      "outputs": [
        {
          "output_type": "stream",
          "text": [
            "Downloading data from https://storage.googleapis.com/tensorflow/tf-keras-datasets/mnist.npz\n",
            "11493376/11490434 [==============================] - 0s 0us/step\n",
            "11501568/11490434 [==============================] - 0s 0us/step\n"
          ],
          "name": "stdout"
        }
      ]
    },
    {
      "cell_type": "code",
      "metadata": {
        "colab": {
          "base_uri": "https://localhost:8080/"
        },
        "id": "pUWr7BvkXpQE",
        "outputId": "cb0c9abc-8ad9-48a5-975e-92dee83b8ffa"
      },
      "source": [
        "x_train.shape"
      ],
      "execution_count": null,
      "outputs": [
        {
          "output_type": "execute_result",
          "data": {
            "text/plain": [
              "(60000, 28, 28)"
            ]
          },
          "metadata": {},
          "execution_count": 6
        }
      ]
    },
    {
      "cell_type": "code",
      "metadata": {
        "colab": {
          "base_uri": "https://localhost:8080/"
        },
        "id": "hAn3IsWTYWdf",
        "outputId": "c1299d03-b2e9-40cc-f0ce-b81519ac2bc5"
      },
      "source": [
        "x_test.shape"
      ],
      "execution_count": null,
      "outputs": [
        {
          "output_type": "execute_result",
          "data": {
            "text/plain": [
              "(10000, 28, 28)"
            ]
          },
          "metadata": {},
          "execution_count": 7
        }
      ]
    },
    {
      "cell_type": "code",
      "metadata": {
        "id": "sj-2Oee7YYI5"
      },
      "source": [
        "x_train, x_test = x_train/255 , x_test/255"
      ],
      "execution_count": null,
      "outputs": []
    },
    {
      "cell_type": "code",
      "metadata": {
        "id": "7xVQBQOBYaRf"
      },
      "source": [
        "model = tf.keras.models.Sequential([\n",
        "    tf.keras.layers.Flatten(input_shape=(28,28)),\n",
        "    tf.keras.layers.Dense(128,activation ='relu'),\n",
        "    tf.keras.layers.Dropout(0.2),\n",
        "    tf.keras.layers.Dense(10,activation='softmax')                               \n",
        "])"
      ],
      "execution_count": null,
      "outputs": []
    },
    {
      "cell_type": "code",
      "metadata": {
        "colab": {
          "base_uri": "https://localhost:8080/"
        },
        "id": "6_MpiRpcl9FZ",
        "outputId": "42d2d38a-8944-4916-fb0e-0418d7c003e4"
      },
      "source": [
        "model.summary()"
      ],
      "execution_count": null,
      "outputs": [
        {
          "output_type": "stream",
          "text": [
            "Model: \"sequential_1\"\n",
            "_________________________________________________________________\n",
            "Layer (type)                 Output Shape              Param #   \n",
            "=================================================================\n",
            "flatten_1 (Flatten)          (None, 784)               0         \n",
            "_________________________________________________________________\n",
            "dense_2 (Dense)              (None, 128)               100480    \n",
            "_________________________________________________________________\n",
            "dropout_1 (Dropout)          (None, 128)               0         \n",
            "_________________________________________________________________\n",
            "dense_3 (Dense)              (None, 10)                1290      \n",
            "=================================================================\n",
            "Total params: 101,770\n",
            "Trainable params: 101,770\n",
            "Non-trainable params: 0\n",
            "_________________________________________________________________\n"
          ],
          "name": "stdout"
        }
      ]
    },
    {
      "cell_type": "code",
      "metadata": {
        "colab": {
          "base_uri": "https://localhost:8080/"
        },
        "id": "wDH7a_esgSjG",
        "outputId": "7bdebee7-bea4-43db-ae2c-c6bd9b60b34a"
      },
      "source": [
        "# Gradient descent: \n",
        "# a) batch gradient descent : for 1 update of the parameters whole training set would be used  , batch size would be equal to whole training data\n",
        "#b) mini batch : Mini-batch gradient descent: Instead of entire dataset,few of the samples (batch_size) are used to compute gradient in every iteration\n",
        "# c) sgd : picks one sample in each step redudancies in the data\n",
        "\n",
        "model.compile(loss='mse',  optimizer=tf.keras.optimizers.SGD(learning_rate=0.1))\n",
        "\n",
        "# momentum : accelerates the convergence in the relevant direction, default 0\n",
        "model.compile(loss='mse',  optimizer=tf.keras.optimizers.SGD(learning_rate=0.1,momentum = 0.9))\n",
        "\n",
        "# train the model\n",
        "history = model.fit(x_train, y_train, epochs = 10, batch_size=20, validation_split=0.1, verbose=1 )\n"
      ],
      "execution_count": null,
      "outputs": [
        {
          "output_type": "stream",
          "text": [
            "Epoch 1/10\n",
            "2700/2700 [==============================] - 6s 2ms/step - loss: 27.2875 - val_loss: 27.4584\n",
            "Epoch 2/10\n",
            "2700/2700 [==============================] - 5s 2ms/step - loss: 27.2874 - val_loss: 27.4584\n",
            "Epoch 3/10\n",
            "2700/2700 [==============================] - 6s 2ms/step - loss: 27.2874 - val_loss: 27.4584\n",
            "Epoch 4/10\n",
            "2700/2700 [==============================] - 6s 2ms/step - loss: 27.2874 - val_loss: 27.4584\n",
            "Epoch 5/10\n",
            "2700/2700 [==============================] - 6s 2ms/step - loss: 27.2874 - val_loss: 27.4584\n",
            "Epoch 6/10\n",
            "2700/2700 [==============================] - 6s 2ms/step - loss: 27.2874 - val_loss: 27.4584\n",
            "Epoch 7/10\n",
            "2700/2700 [==============================] - 6s 2ms/step - loss: 27.2874 - val_loss: 27.4584\n",
            "Epoch 8/10\n",
            "2700/2700 [==============================] - 6s 2ms/step - loss: 27.2874 - val_loss: 27.4584\n",
            "Epoch 9/10\n",
            "2700/2700 [==============================] - 6s 2ms/step - loss: 27.2874 - val_loss: 27.4584\n",
            "Epoch 10/10\n",
            "2700/2700 [==============================] - 6s 2ms/step - loss: 27.2874 - val_loss: 27.4584\n"
          ],
          "name": "stdout"
        }
      ]
    },
    {
      "cell_type": "code",
      "metadata": {
        "id": "-Oae-vGmgq3e"
      },
      "source": [
        "#ADAGRAD\n",
        "model.compile(loss='mse',  optimizer=tf.keras.optimizers.Adagrad(\n",
        "    learning_rate=0.001,\n",
        "    initial_accumulator_value=0.1,\n",
        "    epsilon=1e-07,\n",
        "))"
      ],
      "execution_count": null,
      "outputs": []
    },
    {
      "cell_type": "code",
      "metadata": {
        "id": "b_-HOam6g58E"
      },
      "source": [
        "#rmsprop\n",
        "model.compile(loss='mse', optimizer= tf.keras.optimizers.RMSprop(\n",
        "    learning_rate=0.001,\n",
        "    rho=0.9,\n",
        "    momentum=0.0,\n",
        "    epsilon=1e-07,\n",
        "    centered=False,\n",
        "    name=\"RMSprop\",\n",
        "))"
      ],
      "execution_count": null,
      "outputs": []
    },
    {
      "cell_type": "code",
      "metadata": {
        "id": "wTgiRt3ug9Ce"
      },
      "source": [
        "#adam\n",
        "model.compile(loss = 'mse',optimizer =tf.keras.optimizers.Adam(\n",
        "    learning_rate=0.001,\n",
        "    beta_1=0.9,\n",
        "    beta_2=0.999,\n",
        "    epsilon=1e-07,\n",
        "    name=\"Adam\"\n",
        ")\n",
        ")\n",
        "\n"
      ],
      "execution_count": null,
      "outputs": []
    },
    {
      "cell_type": "code",
      "metadata": {
        "colab": {
          "base_uri": "https://localhost:8080/"
        },
        "id": "sz3uXQjIhDwx",
        "outputId": "f6d96ec0-e199-48f3-b191-19403749ecf0"
      },
      "source": [
        "model.evaluate(x_test,y_test)"
      ],
      "execution_count": null,
      "outputs": [
        {
          "output_type": "stream",
          "text": [
            "313/313 [==============================] - 0s 1ms/step - loss: 27.2503\n"
          ],
          "name": "stdout"
        },
        {
          "output_type": "execute_result",
          "data": {
            "text/plain": [
              "27.25031280517578"
            ]
          },
          "metadata": {},
          "execution_count": 26
        }
      ]
    },
    {
      "cell_type": "code",
      "metadata": {
        "id": "Unx07ZnJo059"
      },
      "source": [
        ""
      ],
      "execution_count": null,
      "outputs": []
    }
  ]
}